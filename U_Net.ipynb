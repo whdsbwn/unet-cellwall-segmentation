{
  "nbformat": 4,
  "nbformat_minor": 0,
  "metadata": {
    "colab": {
      "provenance": [],
      "gpuType": "T4"
    },
    "kernelspec": {
      "name": "python3",
      "display_name": "Python 3"
    },
    "language_info": {
      "name": "python"
    },
    "accelerator": "GPU"
  },
  "cells": [
    {
      "cell_type": "code",
      "execution_count": 4,
      "metadata": {
        "colab": {
          "base_uri": "https://localhost:8080/"
        },
        "id": "d9M3_3-83dWn",
        "outputId": "215554ac-703d-41b7-c1ec-4e1f7ab1a50a"
      },
      "outputs": [
        {
          "output_type": "stream",
          "name": "stdout",
          "text": [
            "/content\n",
            "/content/drive/MyDrive\n",
            "/content/drive/MyDrive/U-Net\n"
          ]
        }
      ],
      "source": [
        "!pwd\n",
        "\n",
        "%cd drive/MyDrive\n",
        "%cd U-Net\n",
        "\n",
        "\n"
      ]
    },
    {
      "cell_type": "code",
      "source": [
        "from google.colab import drive\n",
        "drive.mount('/content/drive')"
      ],
      "metadata": {
        "colab": {
          "base_uri": "https://localhost:8080/"
        },
        "id": "HKY99FV-fs4M",
        "outputId": "5b0e08b3-ea69-4e9f-c89f-cfc2c6072f97"
      },
      "execution_count": 2,
      "outputs": [
        {
          "output_type": "stream",
          "name": "stdout",
          "text": [
            "Drive already mounted at /content/drive; to attempt to forcibly remount, call drive.mount(\"/content/drive\", force_remount=True).\n"
          ]
        }
      ]
    },
    {
      "cell_type": "code",
      "source": [
        "!git clone https://github.com/milesial/Pytorch-UNet.git"
      ],
      "metadata": {
        "colab": {
          "base_uri": "https://localhost:8080/"
        },
        "id": "-7aCwFa-6tbD",
        "outputId": "90a0ae64-56cc-49be-fad6-c0dd333be072"
      },
      "execution_count": 4,
      "outputs": [
        {
          "output_type": "stream",
          "name": "stdout",
          "text": [
            "Cloning into 'Pytorch-UNet'...\n",
            "remote: Enumerating objects: 618, done.\u001b[K\n",
            "remote: Total 618 (delta 0), reused 0 (delta 0), pack-reused 618 (from 1)\u001b[K\n",
            "Receiving objects: 100% (618/618), 47.42 MiB | 10.76 MiB/s, done.\n",
            "Resolving deltas: 100% (338/338), done.\n"
          ]
        }
      ]
    },
    {
      "cell_type": "code",
      "source": [
        "%cd Pytorch-UNet"
      ],
      "metadata": {
        "colab": {
          "base_uri": "https://localhost:8080/"
        },
        "id": "h-tGC71H7cN_",
        "outputId": "dc01d4d1-4abf-43be-e53c-e7b934b2223d"
      },
      "execution_count": 5,
      "outputs": [
        {
          "output_type": "stream",
          "name": "stdout",
          "text": [
            "/content/drive/MyDrive/U-Net/Pytorch-UNet\n"
          ]
        }
      ]
    },
    {
      "cell_type": "code",
      "source": [
        "!pip install -r requirements.txt"
      ],
      "metadata": {
        "colab": {
          "base_uri": "https://localhost:8080/"
        },
        "id": "4yrC5Rc37iPx",
        "outputId": "4fb28fba-9af3-4c1f-91ae-5a04dba1156b"
      },
      "execution_count": 6,
      "outputs": [
        {
          "output_type": "stream",
          "name": "stdout",
          "text": [
            "Requirement already satisfied: matplotlib==3.6.2 in /usr/local/lib/python3.10/dist-packages (from -r requirements.txt (line 1)) (3.6.2)\n",
            "Requirement already satisfied: numpy==1.23.5 in /usr/local/lib/python3.10/dist-packages (from -r requirements.txt (line 2)) (1.23.5)\n",
            "Requirement already satisfied: Pillow==9.3.0 in /usr/local/lib/python3.10/dist-packages (from -r requirements.txt (line 3)) (9.3.0)\n",
            "Requirement already satisfied: tqdm==4.64.1 in /usr/local/lib/python3.10/dist-packages (from -r requirements.txt (line 4)) (4.64.1)\n",
            "Requirement already satisfied: wandb==0.13.5 in /usr/local/lib/python3.10/dist-packages (from -r requirements.txt (line 5)) (0.13.5)\n",
            "Requirement already satisfied: contourpy>=1.0.1 in /usr/local/lib/python3.10/dist-packages (from matplotlib==3.6.2->-r requirements.txt (line 1)) (1.3.0)\n",
            "Requirement already satisfied: cycler>=0.10 in /usr/local/lib/python3.10/dist-packages (from matplotlib==3.6.2->-r requirements.txt (line 1)) (0.12.1)\n",
            "Requirement already satisfied: fonttools>=4.22.0 in /usr/local/lib/python3.10/dist-packages (from matplotlib==3.6.2->-r requirements.txt (line 1)) (4.53.1)\n",
            "Requirement already satisfied: kiwisolver>=1.0.1 in /usr/local/lib/python3.10/dist-packages (from matplotlib==3.6.2->-r requirements.txt (line 1)) (1.4.7)\n",
            "Requirement already satisfied: packaging>=20.0 in /usr/local/lib/python3.10/dist-packages (from matplotlib==3.6.2->-r requirements.txt (line 1)) (24.1)\n",
            "Requirement already satisfied: pyparsing>=2.2.1 in /usr/local/lib/python3.10/dist-packages (from matplotlib==3.6.2->-r requirements.txt (line 1)) (3.1.4)\n",
            "Requirement already satisfied: python-dateutil>=2.7 in /usr/local/lib/python3.10/dist-packages (from matplotlib==3.6.2->-r requirements.txt (line 1)) (2.8.2)\n",
            "Requirement already satisfied: Click!=8.0.0,>=7.0 in /usr/local/lib/python3.10/dist-packages (from wandb==0.13.5->-r requirements.txt (line 5)) (8.1.7)\n",
            "Requirement already satisfied: GitPython>=1.0.0 in /usr/local/lib/python3.10/dist-packages (from wandb==0.13.5->-r requirements.txt (line 5)) (3.1.43)\n",
            "Requirement already satisfied: requests<3,>=2.0.0 in /usr/local/lib/python3.10/dist-packages (from wandb==0.13.5->-r requirements.txt (line 5)) (2.32.3)\n",
            "Requirement already satisfied: promise<3,>=2.0 in /usr/local/lib/python3.10/dist-packages (from wandb==0.13.5->-r requirements.txt (line 5)) (2.3)\n",
            "Requirement already satisfied: shortuuid>=0.5.0 in /usr/local/lib/python3.10/dist-packages (from wandb==0.13.5->-r requirements.txt (line 5)) (1.0.13)\n",
            "Requirement already satisfied: psutil>=5.0.0 in /usr/local/lib/python3.10/dist-packages (from wandb==0.13.5->-r requirements.txt (line 5)) (5.9.5)\n",
            "Requirement already satisfied: sentry-sdk>=1.0.0 in /usr/local/lib/python3.10/dist-packages (from wandb==0.13.5->-r requirements.txt (line 5)) (2.14.0)\n",
            "Requirement already satisfied: six>=1.13.0 in /usr/local/lib/python3.10/dist-packages (from wandb==0.13.5->-r requirements.txt (line 5)) (1.16.0)\n",
            "Requirement already satisfied: docker-pycreds>=0.4.0 in /usr/local/lib/python3.10/dist-packages (from wandb==0.13.5->-r requirements.txt (line 5)) (0.4.0)\n",
            "Requirement already satisfied: protobuf!=4.0.*,!=4.21.0,<5,>=3.12.0 in /usr/local/lib/python3.10/dist-packages (from wandb==0.13.5->-r requirements.txt (line 5)) (3.20.3)\n",
            "Requirement already satisfied: PyYAML in /usr/local/lib/python3.10/dist-packages (from wandb==0.13.5->-r requirements.txt (line 5)) (6.0.2)\n",
            "Requirement already satisfied: pathtools in /usr/local/lib/python3.10/dist-packages (from wandb==0.13.5->-r requirements.txt (line 5)) (0.1.2)\n",
            "Requirement already satisfied: setproctitle in /usr/local/lib/python3.10/dist-packages (from wandb==0.13.5->-r requirements.txt (line 5)) (1.3.3)\n",
            "Requirement already satisfied: setuptools in /usr/local/lib/python3.10/dist-packages (from wandb==0.13.5->-r requirements.txt (line 5)) (71.0.4)\n",
            "Requirement already satisfied: gitdb<5,>=4.0.1 in /usr/local/lib/python3.10/dist-packages (from GitPython>=1.0.0->wandb==0.13.5->-r requirements.txt (line 5)) (4.0.11)\n",
            "Requirement already satisfied: charset-normalizer<4,>=2 in /usr/local/lib/python3.10/dist-packages (from requests<3,>=2.0.0->wandb==0.13.5->-r requirements.txt (line 5)) (3.3.2)\n",
            "Requirement already satisfied: idna<4,>=2.5 in /usr/local/lib/python3.10/dist-packages (from requests<3,>=2.0.0->wandb==0.13.5->-r requirements.txt (line 5)) (3.8)\n",
            "Requirement already satisfied: urllib3<3,>=1.21.1 in /usr/local/lib/python3.10/dist-packages (from requests<3,>=2.0.0->wandb==0.13.5->-r requirements.txt (line 5)) (2.0.7)\n",
            "Requirement already satisfied: certifi>=2017.4.17 in /usr/local/lib/python3.10/dist-packages (from requests<3,>=2.0.0->wandb==0.13.5->-r requirements.txt (line 5)) (2024.8.30)\n",
            "Requirement already satisfied: smmap<6,>=3.0.1 in /usr/local/lib/python3.10/dist-packages (from gitdb<5,>=4.0.1->GitPython>=1.0.0->wandb==0.13.5->-r requirements.txt (line 5)) (5.0.1)\n"
          ]
        }
      ]
    },
    {
      "cell_type": "code",
      "source": [
        "!pwd\n",
        "%cd /content/drive/MyDrive/U-Net/Pytorch-UNet"
      ],
      "metadata": {
        "colab": {
          "base_uri": "https://localhost:8080/"
        },
        "id": "xzwr3-hY7463",
        "outputId": "b603ec15-1917-4c82-900f-78861217fbbe"
      },
      "execution_count": 2,
      "outputs": [
        {
          "output_type": "stream",
          "name": "stdout",
          "text": [
            "/content\n",
            "/content/drive/MyDrive/U-Net/Pytorch-UNet\n"
          ]
        }
      ]
    },
    {
      "cell_type": "code",
      "source": [
        "#!python train.py --epochs 5 --batch-size 4 --learning-rate 0.001 --scale 0.5 --validation 10 --amp"
      ],
      "metadata": {
        "colab": {
          "base_uri": "https://localhost:8080/"
        },
        "id": "QG8O9BRZBuNw",
        "outputId": "ed5137f1-1b87-447e-eb11-959b03205e65"
      },
      "execution_count": 5,
      "outputs": [
        {
          "output_type": "stream",
          "name": "stdout",
          "text": [
            "usage: train.py [-h] [--epochs E] [--batch-size B] [--learning-rate LR] [--load LOAD]\n",
            "                [--scale SCALE] [--validation VAL] [--amp] [--bilinear] [--classes CLASSES]\n",
            "train.py: error: unrecognized arguments: --img-dir /content/drive/MyDrive/U-Net/Pytorch-UNet/data/imgs --mask-dir /content/drive/MyDrive/U-Net/Pytorch-UNet/data/masks\n"
          ]
        }
      ]
    },
    {
      "cell_type": "code",
      "source": [
        "import torch\n",
        "import torch.optim as optim\n",
        "from torch.utils.data import DataLoader\n",
        "from torch import nn\n",
        "from utils.data_loading import BasicDataset\n",
        "from unet import UNet\n",
        "\n",
        "\n",
        "images_dir = '/content/drive/MyDrive/U-Net/Pytorch-UNet/data/imgs'\n",
        "masks_dir = '/content/drive/MyDrive/U-Net/Pytorch-UNet/data/masks'\n",
        "\n",
        "# 모델 설정\n",
        "device = torch.device('cuda' if torch.cuda.is_available() else 'cpu')\n",
        "model = UNet(n_channels=1, n_classes=1)\n",
        "model.to(device)\n",
        "\n",
        "# 데이터셋 로드 및 DataLoader 설정\n",
        "dataset = BasicDataset(images_dir=images_dir, mask_dir=masks_dir, scale=1.0)\n",
        "train_loader = DataLoader(dataset, batch_size=4, shuffle=True)\n",
        "\n",
        "# 손실 함수와 옵티마이저 설정\n",
        "criterion = nn.BCEWithLogitsLoss()  # Binary Cross-Entropy Loss\n",
        "optimizer = optim.Adam(model.parameters(), lr=0.001)\n",
        "\n",
        "# 학습 함수 정의\n",
        "def train(model, dataloader, criterion, optimizer, num_epochs=5):\n",
        "    model.train()  # 학습 모드로 전환\n",
        "    for epoch in range(num_epochs):\n",
        "        running_loss = 0.0\n",
        "        for batch in dataloader:\n",
        "            images = batch['image'].to(device=device, dtype=torch.float32, memory_format=torch.channels_last)  # 이미지를 GPU/CPU에 로드\n",
        "            masks = batch['mask'].to(device=device, dtype=torch.long)    # 마스크를 GPU/CPU에 로드\n",
        "\n",
        "\n",
        "\n",
        "            # Forward pass\n",
        "            outputs = model(images)\n",
        "\n",
        "            loss = criterion(outputs, masks.float())\n",
        "\n",
        "\n",
        "            # Backward pass 및 최적화\n",
        "            optimizer.zero_grad()\n",
        "            loss.backward()\n",
        "            optimizer.step()\n",
        "\n",
        "            running_loss += loss.item()\n",
        "\n",
        "        # 에포크마다 평균 손실 출력\n",
        "        print(f\"Epoch [{epoch+1}/{num_epochs}], Loss: {running_loss/len(dataloader)}\")\n",
        "\n",
        "# 모델 학습\n",
        "train(model, train_loader, criterion, optimizer, num_epochs=10)\n",
        "\n",
        "# 학습된 모델 저장\n",
        "torch.save(model.state_dict(), '/content/drive/MyDrive/U-Net/MODEL.pth')"
      ],
      "metadata": {
        "colab": {
          "base_uri": "https://localhost:8080/"
        },
        "id": "jx5U4mKObX41",
        "outputId": "bf1346e3-0598-46e4-da12-3a1651e270f7"
      },
      "execution_count": null,
      "outputs": [
        {
          "output_type": "stream",
          "name": "stderr",
          "text": [
            "100%|██████████| 30/30 [00:00<00:00, 78.21it/s]\n"
          ]
        }
      ]
    }
  ]
}